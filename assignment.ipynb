{
 "cells": [
  {
   "cell_type": "code",
   "execution_count": 2,
   "metadata": {},
   "outputs": [],
   "source": [
    "import numpy as np\n",
    "# don't change any function name write you all code inside the function only for every question solution and return you output as mentioned in problem statement."
   ]
  },
  {
   "cell_type": "markdown",
   "metadata": {},
   "source": [
    "### 1. Write a NumPy program to create an array of all the even integers from a to b(both inclusive).\n",
    "\n",
    "Input: 4,10\n",
    "\n",
    "Output: [4,6,8,10]"
   ]
  },
  {
   "cell_type": "code",
   "execution_count": 2,
   "metadata": {},
   "outputs": [
    {
     "data": {
      "text/plain": [
       "[3, 5, 7, 9, 11]"
      ]
     },
     "execution_count": 2,
     "metadata": {},
     "output_type": "execute_result"
    }
   ],
   "source": [
    "def question_first_solution(a,b):\n",
    "    return list(np.arange(a,b+2,2))\n",
    "question_first_solution(3,11)"
   ]
  },
  {
   "cell_type": "markdown",
   "metadata": {},
   "source": [
    "### 2. Write a NumPy program to create a vector with values from a to b and change the sign of the numbers in the range from c to d.\n",
    "\n",
    "Input: 0, 20, 9, 15\n",
    "\n",
    "Output: [  0,   1,   2,   3,   4,   5,   6,   7,   8,  -9, -10, -11, -12, -13, -14, -15,  16,  17,  18,  19]"
   ]
  },
  {
   "cell_type": "code",
   "execution_count": 2,
   "metadata": {},
   "outputs": [
    {
     "data": {
      "text/plain": [
       "[0, 1, 2, 3, 4, 5, 6, 7, 8, -9, -10, -11, -12, -13, -14, -15, 16, 17, 18, 19]"
      ]
     },
     "execution_count": 2,
     "metadata": {},
     "output_type": "execute_result"
    }
   ],
   "source": [
    "def question_second_solution(a,b,c,d):\n",
    "    ary = np.arange(a,b)\n",
    "    ary[(ary >= c) & (ary <= d)] *= -1\n",
    "    return list(ary)\n",
    "question_second_solution(0,20,9,15)"
   ]
  },
  {
   "cell_type": "markdown",
   "metadata": {},
   "source": [
    "### 3. Write a NumPy program to create a mxn matrix, in which the elements on the borders will be equal to 1, and inside 0.\n",
    "\n",
    "Input: 3, 4\n",
    "\n",
    "Output:\n",
    "\n",
    "         [[1., 1., 1., 1.],\n",
    "\n",
    "          [1., 0., 0., 1.],\n",
    "          \n",
    "          [1., 1., 1., 1.]]"
   ]
  },
  {
   "cell_type": "code",
   "execution_count": 10,
   "metadata": {},
   "outputs": [
    {
     "data": {
      "text/plain": [
       "array([[1., 1., 1., 1.],\n",
       "       [1., 0., 0., 1.],\n",
       "       [1., 1., 1., 1.]])"
      ]
     },
     "execution_count": 10,
     "metadata": {},
     "output_type": "execute_result"
    }
   ],
   "source": [
    "def question_third_solution(m,n):\n",
    "    arr = np.ones((m,n))\n",
    "    arr[1:-1,1:-1]=0\n",
    "    return arr\n",
    "question_third_solution(3,4)"
   ]
  },
  {
   "cell_type": "markdown",
   "metadata": {},
   "source": [
    "\n",
    "### 4. Write a NumPy program to remove all rows in a NumPy array that contain non-numeric values.\n",
    "\n",
    "Input: [[1,2,3], [4,5,np.nan], [7,8,9], [True, False, True]]\n",
    "\n",
    "Output: [[1., 2., 3.],\n",
    "         [7., 8., 9.],\n",
    "         [1., 0., 1.]]"
   ]
  },
  {
   "cell_type": "code",
   "execution_count": 11,
   "metadata": {},
   "outputs": [
    {
     "data": {
      "text/plain": [
       "array([[1., 2., 3.],\n",
       "       [7., 8., 9.],\n",
       "       [1., 0., 1.]])"
      ]
     },
     "execution_count": 11,
     "metadata": {},
     "output_type": "execute_result"
    }
   ],
   "source": [
    "def question_fourth_solution(x):\n",
    "    return x[~np.isnan(x).any(axis=1)]\n",
    "    \n",
    "question_fourth_solution(np.array([[1,2,3], [4,5,np.nan], [7,8,9], [True, False, True]]))"
   ]
  },
  {
   "cell_type": "markdown",
   "metadata": {},
   "source": [
    "### 5. Write a NumPy program to select indices satisfying multiple conditions in a NumPy array.\n",
    "Input:\n",
    "\n",
    "a = np.array([97, 101, 105, 110, 109])\n",
    "\n",
    "b = np.array([0, 1, 2, 3, 4])\n",
    "\n",
    "Note: Select the elements from the second array corresponding to elements in the first array that are greater than 100 and less than 110\n",
    "\n",
    "Output: [1, 2, 4]"
   ]
  },
  {
   "cell_type": "code",
   "execution_count": 12,
   "metadata": {},
   "outputs": [
    {
     "data": {
      "text/plain": [
       "[1, 2, 4]"
      ]
     },
     "execution_count": 12,
     "metadata": {},
     "output_type": "execute_result"
    }
   ],
   "source": [
    "def question_fifth_solution(a,b):\n",
    "    return list(b[(100 < a ) & (a < 110)])\n",
    "\n",
    "question_fifth_solution(np.array([97, 101, 105, 110, 109]),np.array([0, 1, 2, 3, 4]))"
   ]
  },
  {
   "cell_type": "markdown",
   "metadata": {},
   "source": [
    "### 6. Write a NumPy program to count the frequency of unique values in numpy array.\n",
    "\n",
    "Input: [10,10,20,10,20,20,20,30, 30,50,40,40]\n",
    "\n",
    "Output: [3, 4, 2, 2, 1]"
   ]
  },
  {
   "cell_type": "code",
   "execution_count": 13,
   "metadata": {},
   "outputs": [
    {
     "data": {
      "text/plain": [
       "[3, 4, 2, 2, 1]"
      ]
     },
     "execution_count": 13,
     "metadata": {},
     "output_type": "execute_result"
    }
   ],
   "source": [
    "def question_sixth_solution(a):\n",
    "    num,num1 = np.unique(a,return_counts= True)\n",
    "    return list(num1) \n",
    "question_sixth_solution(np.array([10,10,20,10,20,20,20,30, 30,50,40,40]))"
   ]
  },
  {
   "cell_type": "markdown",
   "metadata": {},
   "source": [
    "\n",
    "### 7. Write a NumPy program to search the index of a given array in another given array.\n",
    "\n",
    "Input: [[1,2,3], [4,5,6] , [7,8,9], [10, 11, 12]], [1,2,3]\n",
    "\n",
    "Output: [1]"
   ]
  },
  {
   "cell_type": "code",
   "execution_count": 16,
   "metadata": {},
   "outputs": [
    {
     "name": "stdout",
     "output_type": "stream",
     "text": [
      "[0]\n"
     ]
    }
   ],
   "source": [
    "def question_seventh_solution(array, test_array):\n",
    "    return np.where((array == test_array).all(1))[0]\n",
    "    \n",
    "question_seventh_solution(np.array([[1,2,3], [4,5,6] , [7,8,9], [10, 11, 12]]), np.array([1,2,3]))"
   ]
  },
  {
   "cell_type": "markdown",
   "metadata": {},
   "source": [
    "### 8. Write a NumPy program to sort a given complex array using the real part first, then the imaginary part.\n",
    "\n",
    "Input: [1 + 2j, 3 - 1j, 3 - 2j, 4 - 3j, 3 + 5j]\n",
    "\n",
    "Output: [1.+2.j, 3.-2.j, 3.-1.j, 3.+5.j, 4.-3.j]"
   ]
  },
  {
   "cell_type": "code",
   "execution_count": 20,
   "metadata": {},
   "outputs": [
    {
     "data": {
      "text/plain": [
       "array([1.+2.j, 3.-2.j, 3.-1.j, 3.+5.j, 4.-3.j])"
      ]
     },
     "execution_count": 20,
     "metadata": {},
     "output_type": "execute_result"
    }
   ],
   "source": [
    "def question_eighth_solution(array):\n",
    "    return np.sort_complex(array)\n",
    "\n",
    "question_eighth_solution(np.array([1 + 2j, 3 - 1j, 3 - 2j, 4 - 3j, 3 + 5j]))"
   ]
  },
  {
   "cell_type": "markdown",
   "metadata": {},
   "source": [
    "### 9. Write a NumPy program to get the indices of the sorted elements of a given array.\n",
    "Input: [1023, 5202, 6230, 1671, 1682, 5241, 4532]\n",
    "\n",
    "Output: [0, 3, 4, 6, 1, 5, 2]"
   ]
  },
  {
   "cell_type": "code",
   "execution_count": 21,
   "metadata": {},
   "outputs": [
    {
     "data": {
      "text/plain": [
       "[0, 3, 4, 6, 1, 5, 2]"
      ]
     },
     "execution_count": 21,
     "metadata": {},
     "output_type": "execute_result"
    }
   ],
   "source": [
    "def question_ninth_solution(array):\n",
    "    return list(np.argsort(array))\n",
    "\n",
    "question_ninth_solution(np.array(np.array([1023, 5202, 6230, 1671, 1682, 5241, 4532])))"
   ]
  },
  {
   "cell_type": "markdown",
   "metadata": {},
   "source": [
    "### 10. Write a NumPy program to create a 8x8 matrix and fill it with a checkerboard pattern.\n",
    "\n",
    "Output: [[0 1 0 1 0 1 0 1]                                                      \n",
    "             [1 0 1 0 1 0 1 0]                                                      \n",
    "             [0 1 0 1 0 1 0 1]                                                      \n",
    "             [1 0 1 0 1 0 1 0]                                                      \n",
    "             [0 1 0 1 0 1 0 1]                                                      \n",
    "             [1 0 1 0 1 0 1 0]                                                      \n",
    "             [0 1 0 1 0 1 0 1]                                                      \n",
    "             [1 0 1 0 1 0 1 0]]"
   ]
  },
  {
   "cell_type": "code",
   "execution_count": 34,
   "metadata": {},
   "outputs": [
    {
     "data": {
      "text/plain": [
       "array([[0., 1., 0., 1., 0., 1., 0., 1.],\n",
       "       [1., 0., 1., 0., 1., 0., 1., 0.],\n",
       "       [0., 1., 0., 1., 0., 1., 0., 1.],\n",
       "       [1., 0., 1., 0., 1., 0., 1., 0.],\n",
       "       [0., 1., 0., 1., 0., 1., 0., 1.],\n",
       "       [1., 0., 1., 0., 1., 0., 1., 0.],\n",
       "       [0., 1., 0., 1., 0., 1., 0., 1.],\n",
       "       [1., 0., 1., 0., 1., 0., 1., 0.]])"
      ]
     },
     "execution_count": 34,
     "metadata": {},
     "output_type": "execute_result"
    }
   ],
   "source": [
    "def question_tenth_solution():\n",
    "    arr = np.zeros((8,8))\n",
    "    arr[1::2,::2] = 1\n",
    "    arr[::2,1::2] = 1\n",
    "    return arr\n",
    "    \n",
    "question_tenth_solution()\n"
   ]
  },
  {
   "cell_type": "code",
   "execution_count": null,
   "metadata": {},
   "outputs": [],
   "source": []
  }
 ],
 "metadata": {
  "kernelspec": {
   "display_name": "Python 3",
   "language": "python",
   "name": "python3"
  },
  "language_info": {
   "codemirror_mode": {
    "name": "ipython",
    "version": 3
   },
   "file_extension": ".py",
   "mimetype": "text/x-python",
   "name": "python",
   "nbconvert_exporter": "python",
   "pygments_lexer": "ipython3",
   "version": "3.7.4"
  },
  "varInspector": {
   "cols": {
    "lenName": 16,
    "lenType": 16,
    "lenVar": 40
   },
   "kernels_config": {
    "python": {
     "delete_cmd_postfix": "",
     "delete_cmd_prefix": "del ",
     "library": "var_list.py",
     "varRefreshCmd": "print(var_dic_list())"
    },
    "r": {
     "delete_cmd_postfix": ") ",
     "delete_cmd_prefix": "rm(",
     "library": "var_list.r",
     "varRefreshCmd": "cat(var_dic_list()) "
    }
   },
   "types_to_exclude": [
    "module",
    "function",
    "builtin_function_or_method",
    "instance",
    "_Feature"
   ],
   "window_display": false
  }
 },
 "nbformat": 4,
 "nbformat_minor": 4
}
